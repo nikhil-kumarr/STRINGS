{
 "cells": [
  {
   "cell_type": "markdown",
   "id": "9a2a2746",
   "metadata": {},
   "source": [
    "### 1. Write a python program to convert a string to lower case"
   ]
  },
  {
   "cell_type": "code",
   "execution_count": 29,
   "id": "6c2a6775",
   "metadata": {},
   "outputs": [
    {
     "name": "stdout",
     "output_type": "stream",
     "text": [
      "NIKHIL\n"
     ]
    },
    {
     "data": {
      "text/plain": [
       "'nikhil'"
      ]
     },
     "execution_count": 29,
     "metadata": {},
     "output_type": "execute_result"
    }
   ],
   "source": [
    "a=input()\n",
    "a.lower()"
   ]
  },
  {
   "cell_type": "markdown",
   "id": "dd42ac2b",
   "metadata": {},
   "source": [
    "### 2.Write a python program to convert only odd indexed characters to lower case\n",
    "+ Ex: PYTHON\n",
    "+ Output: - PyThOn"
   ]
  },
  {
   "cell_type": "code",
   "execution_count": 9,
   "id": "a73e8ea4",
   "metadata": {},
   "outputs": [
    {
     "name": "stdout",
     "output_type": "stream",
     "text": [
      "NIKHIL\n"
     ]
    },
    {
     "data": {
      "text/plain": [
       "' NiKhIl'"
      ]
     },
     "execution_count": 9,
     "metadata": {},
     "output_type": "execute_result"
    }
   ],
   "source": [
    "a=input()\n",
    "b=\" \"\n",
    "for i in range(len(a)):\n",
    "    if i%2==0:\n",
    "        b=b+a[i].upper()\n",
    "    else:\n",
    "        b=b+a[i].lower()\n",
    "b        \n",
    "    \n",
    "    "
   ]
  },
  {
   "cell_type": "markdown",
   "id": "79fb5697",
   "metadata": {},
   "source": [
    "### 3.Write a python program to convert only even indexed characters to lower case\n",
    "+ Ex: PYTHON\n",
    "+ Output: - pYtHoN"
   ]
  },
  {
   "cell_type": "code",
   "execution_count": 10,
   "id": "08044fa7",
   "metadata": {},
   "outputs": [
    {
     "name": "stdout",
     "output_type": "stream",
     "text": [
      "NIKHIL\n"
     ]
    },
    {
     "data": {
      "text/plain": [
       "' nIkHiL'"
      ]
     },
     "execution_count": 10,
     "metadata": {},
     "output_type": "execute_result"
    }
   ],
   "source": [
    "a=input()\n",
    "b=\" \"\n",
    "for i in range(len(a)):\n",
    "    if i%2==1:\n",
    "        b=b+a[i].upper()\n",
    "    else:\n",
    "        b=b+a[i].lower()\n",
    "b        "
   ]
  },
  {
   "cell_type": "markdown",
   "id": "b261ffee",
   "metadata": {},
   "source": [
    "### 4. Write a python program to convert only odd indexed characters to upper case\n",
    "+ Ex: python\n",
    "+ Output: pYtHoN"
   ]
  },
  {
   "cell_type": "code",
   "execution_count": 12,
   "id": "003780ed",
   "metadata": {},
   "outputs": [
    {
     "name": "stdout",
     "output_type": "stream",
     "text": [
      "nikhil\n"
     ]
    },
    {
     "data": {
      "text/plain": [
       "' nIkHiL'"
      ]
     },
     "execution_count": 12,
     "metadata": {},
     "output_type": "execute_result"
    }
   ],
   "source": [
    "a=input()\n",
    "b=\" \"\n",
    "for i in range(len(a)):\n",
    "    if i%2==1:\n",
    "        b=b+a[i].upper()\n",
    "    else:\n",
    "        b=b+a[i].lower()\n",
    "b        "
   ]
  },
  {
   "cell_type": "markdown",
   "id": "dbea69b7",
   "metadata": {},
   "source": [
    "### 5. Write a python program to convert only even indexed characters to upper case\n",
    "+ Ex: python\n",
    "+ Output: - PyThOn"
   ]
  },
  {
   "cell_type": "code",
   "execution_count": 14,
   "id": "b7f37329",
   "metadata": {},
   "outputs": [
    {
     "name": "stdout",
     "output_type": "stream",
     "text": [
      "python\n"
     ]
    },
    {
     "data": {
      "text/plain": [
       "' PyThOn'"
      ]
     },
     "execution_count": 14,
     "metadata": {},
     "output_type": "execute_result"
    }
   ],
   "source": [
    "a=input()\n",
    "b=\" \"\n",
    "for i in range(len(a)):\n",
    "    if i%2==0:\n",
    "        b=b+a[i].upper()\n",
    "    else:\n",
    "        b=b+a[i].lower()\n",
    "b        \n",
    "    "
   ]
  },
  {
   "cell_type": "markdown",
   "id": "727fe6da",
   "metadata": {},
   "source": [
    "### 6. Write a python program where you have different variable which contains your \n",
    "+ name, gender, age, phone number, father’s name and mother’s name.\n",
    "+ And by using this variable create a variable named bio-data where you will use all\n",
    " this variable\n",
    "+ Ex: print(bio-data)\n",
    " Output:- My name is …., My age is ….,My phone-no is ….,my father’s name is …,and \n",
    " my mother’s name is…"
   ]
  },
  {
   "cell_type": "code",
   "execution_count": 18,
   "id": "2c1a6316",
   "metadata": {},
   "outputs": [
    {
     "name": "stdout",
     "output_type": "stream",
     "text": [
      "rog\n",
      "2\n",
      "12345\n",
      "ram\n",
      "sita\n",
      "my name is  rog my age is  2 my phn number is  12345 my father name is  ram and my mother name is  sita\n"
     ]
    }
   ],
   "source": [
    "name=input()\n",
    "age=int(input())\n",
    "phn_no=int(input())\n",
    "father_name=input()\n",
    "mother_name=input()\n",
    "print(\"my name is \",name, \"my age is \",age,\"my phn number is \",phn_no,\"my father name is \",father_name,\"and my mother name is \",mother_name)"
   ]
  },
  {
   "cell_type": "markdown",
   "id": "93a494b0",
   "metadata": {},
   "source": [
    "#### 7. Write a python program to count how many times “@” occurred\n",
    "Ex: S@ndhy@\n",
    "Output: 2"
   ]
  },
  {
   "cell_type": "code",
   "execution_count": 20,
   "id": "10b9a8ca",
   "metadata": {},
   "outputs": [
    {
     "name": "stdout",
     "output_type": "stream",
     "text": [
      "s@ndhy@\n"
     ]
    },
    {
     "data": {
      "text/plain": [
       "2"
      ]
     },
     "execution_count": 20,
     "metadata": {},
     "output_type": "execute_result"
    }
   ],
   "source": [
    "a=input()\n",
    "a.count('@')"
   ]
  },
  {
   "cell_type": "markdown",
   "id": "3069f2d5",
   "metadata": {},
   "source": [
    "### 8. Write a python program to get only names from the string\n",
    "+ Ex: “name1.@gmail.com, name2.@gmail.com, name3.@gmail.com”\n",
    "+ Output-name1, name2, name3"
   ]
  },
  {
   "cell_type": "code",
   "execution_count": 24,
   "id": "550c3195",
   "metadata": {},
   "outputs": [
    {
     "data": {
      "text/plain": [
       "'name1 , name2 , name3 '"
      ]
     },
     "execution_count": 24,
     "metadata": {},
     "output_type": "execute_result"
    }
   ],
   "source": [
    "s=\"name1.@gmail.com, name2.@gmail.com, name3.@gmail.com\"\n",
    "a=s.split(\".@gmail.com\")\n",
    "b=\" \".join(a)\n",
    "b"
   ]
  },
  {
   "cell_type": "markdown",
   "id": "3ec47f25",
   "metadata": {},
   "source": [
    "### 9. Write a program to remove vowels from the entire alphabets\n",
    "+ Ex: “abcdefghijklmnopqrstuvwxyz”\n",
    "+ Output: “bcdfghjklmnpqrstvwxyz”"
   ]
  },
  {
   "cell_type": "code",
   "execution_count": 26,
   "id": "e8779167",
   "metadata": {},
   "outputs": [
    {
     "data": {
      "text/plain": [
       "'bcdfghjklmnpqrstvwxyz'"
      ]
     },
     "execution_count": 26,
     "metadata": {},
     "output_type": "execute_result"
    }
   ],
   "source": [
    "a=\"abcdefghijklmnopqrstuvwxyz\"\n",
    "b=['a','e','i','o','u']\n",
    "c=\"\"\n",
    "for i in a:\n",
    "    if i not in b:\n",
    "        c=c+i\n",
    "c        "
   ]
  },
  {
   "cell_type": "markdown",
   "id": "aae8df1a",
   "metadata": {},
   "source": [
    "### 10. Find all occurrences of a substring in a given string by ignoring the case\n",
    "+ Ex: str1 = \"Welcome to Innomatics. innomatics awesome, isn't it?\"\n",
    "+ Output: The innomatics count is:2"
   ]
  },
  {
   "cell_type": "code",
   "execution_count": 28,
   "id": "0697d4b5",
   "metadata": {},
   "outputs": [
    {
     "name": "stdout",
     "output_type": "stream",
     "text": [
      "the innomatics count is: 2\n"
     ]
    }
   ],
   "source": [
    "str1 = \"Welcome to Innomatics. innomatics awesome, isn't it?\"\n",
    "a=str1.lower()\n",
    "b=a.count(\"innomatics\")\n",
    "print(\"the innomatics count is:\",b)"
   ]
  },
  {
   "cell_type": "code",
   "execution_count": null,
   "id": "20954260",
   "metadata": {},
   "outputs": [],
   "source": []
  }
 ],
 "metadata": {
  "kernelspec": {
   "display_name": "Python 3 (ipykernel)",
   "language": "python",
   "name": "python3"
  },
  "language_info": {
   "codemirror_mode": {
    "name": "ipython",
    "version": 3
   },
   "file_extension": ".py",
   "mimetype": "text/x-python",
   "name": "python",
   "nbconvert_exporter": "python",
   "pygments_lexer": "ipython3",
   "version": "3.9.13"
  }
 },
 "nbformat": 4,
 "nbformat_minor": 5
}
